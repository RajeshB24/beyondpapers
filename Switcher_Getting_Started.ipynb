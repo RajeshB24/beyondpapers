{
  "nbformat": 4,
  "nbformat_minor": 0,
  "metadata": {
    "colab": {
      "name": "Switcher_Getting_Started.ipynb",
      "provenance": [],
      "collapsed_sections": [],
      "include_colab_link": true
    },
    "kernelspec": {
      "name": "python3",
      "display_name": "Python 3"
    },
    "language_info": {
      "name": "python"
    },
    "accelerator": "GPU"
  },
  "cells": [
    {
      "cell_type": "markdown",
      "metadata": {
        "id": "view-in-github",
        "colab_type": "text"
      },
      "source": [
        "<a href=\"https://colab.research.google.com/github/ai-beyondpapers/beyondpapers/blob/master/Switcher_Getting_Started.ipynb\" target=\"_parent\"><img src=\"https://colab.research.google.com/assets/colab-badge.svg\" alt=\"Open In Colab\"/></a>"
      ]
    },
    {
      "cell_type": "markdown",
      "metadata": {
        "id": "UWyTNQswQsg4"
      },
      "source": [
        "Swicher is currently actively in development. This is just beta release for testing\n"
      ]
    },
    {
      "cell_type": "markdown",
      "metadata": {
        "id": "oXvs3kuGD5k4"
      },
      "source": [
        "## Install beyondpapers using pip"
      ]
    },
    {
      "cell_type": "code",
      "metadata": {
        "colab": {
          "base_uri": "https://localhost:8080/"
        },
        "id": "0uEwX133Blla",
        "outputId": "c4095d9d-ebd8-4ea2-b288-acd800196933"
      },
      "source": [
        "#Note: Switcher uses tensorflow in backend for ANN regressors.Hence make sure tensorflow -2 is installed correctly\n",
        "#And dont worry if have not used tensorflow before. Beyonpapers has made it easier to build vannila DEEP ANN.\n",
        "\n",
        "!pip install beyondpapers"
      ],
      "execution_count": null,
      "outputs": [
        {
          "output_type": "stream",
          "text": [
            "Collecting beyondpapers\n",
            "  Downloading beyondpapers-0.1.0-py3-none-any.whl (8.5 kB)\n",
            "Requirement already satisfied: tensorflow in /usr/local/lib/python3.7/dist-packages (from beyondpapers) (2.5.0)\n",
            "Requirement already satisfied: numpy in /usr/local/lib/python3.7/dist-packages (from beyondpapers) (1.19.5)\n",
            "Requirement already satisfied: scikit-learn in /usr/local/lib/python3.7/dist-packages (from beyondpapers) (0.22.2.post1)\n",
            "Requirement already satisfied: pandas in /usr/local/lib/python3.7/dist-packages (from beyondpapers) (1.1.5)\n",
            "Requirement already satisfied: pytz>=2017.2 in /usr/local/lib/python3.7/dist-packages (from pandas->beyondpapers) (2018.9)\n",
            "Requirement already satisfied: python-dateutil>=2.7.3 in /usr/local/lib/python3.7/dist-packages (from pandas->beyondpapers) (2.8.1)\n",
            "Requirement already satisfied: six>=1.5 in /usr/local/lib/python3.7/dist-packages (from python-dateutil>=2.7.3->pandas->beyondpapers) (1.15.0)\n",
            "Requirement already satisfied: joblib>=0.11 in /usr/local/lib/python3.7/dist-packages (from scikit-learn->beyondpapers) (1.0.1)\n",
            "Requirement already satisfied: scipy>=0.17.0 in /usr/local/lib/python3.7/dist-packages (from scikit-learn->beyondpapers) (1.4.1)\n",
            "Requirement already satisfied: keras-preprocessing~=1.1.2 in /usr/local/lib/python3.7/dist-packages (from tensorflow->beyondpapers) (1.1.2)\n",
            "Requirement already satisfied: wheel~=0.35 in /usr/local/lib/python3.7/dist-packages (from tensorflow->beyondpapers) (0.36.2)\n",
            "Requirement already satisfied: wrapt~=1.12.1 in /usr/local/lib/python3.7/dist-packages (from tensorflow->beyondpapers) (1.12.1)\n",
            "Requirement already satisfied: opt-einsum~=3.3.0 in /usr/local/lib/python3.7/dist-packages (from tensorflow->beyondpapers) (3.3.0)\n",
            "Requirement already satisfied: astunparse~=1.6.3 in /usr/local/lib/python3.7/dist-packages (from tensorflow->beyondpapers) (1.6.3)\n",
            "Requirement already satisfied: h5py~=3.1.0 in /usr/local/lib/python3.7/dist-packages (from tensorflow->beyondpapers) (3.1.0)\n",
            "Requirement already satisfied: google-pasta~=0.2 in /usr/local/lib/python3.7/dist-packages (from tensorflow->beyondpapers) (0.2.0)\n",
            "Requirement already satisfied: termcolor~=1.1.0 in /usr/local/lib/python3.7/dist-packages (from tensorflow->beyondpapers) (1.1.0)\n",
            "Requirement already satisfied: keras-nightly~=2.5.0.dev in /usr/local/lib/python3.7/dist-packages (from tensorflow->beyondpapers) (2.5.0.dev2021032900)\n",
            "Requirement already satisfied: absl-py~=0.10 in /usr/local/lib/python3.7/dist-packages (from tensorflow->beyondpapers) (0.12.0)\n",
            "Requirement already satisfied: flatbuffers~=1.12.0 in /usr/local/lib/python3.7/dist-packages (from tensorflow->beyondpapers) (1.12)\n",
            "Requirement already satisfied: tensorflow-estimator<2.6.0,>=2.5.0rc0 in /usr/local/lib/python3.7/dist-packages (from tensorflow->beyondpapers) (2.5.0)\n",
            "Requirement already satisfied: grpcio~=1.34.0 in /usr/local/lib/python3.7/dist-packages (from tensorflow->beyondpapers) (1.34.1)\n",
            "Requirement already satisfied: tensorboard~=2.5 in /usr/local/lib/python3.7/dist-packages (from tensorflow->beyondpapers) (2.5.0)\n",
            "Requirement already satisfied: gast==0.4.0 in /usr/local/lib/python3.7/dist-packages (from tensorflow->beyondpapers) (0.4.0)\n",
            "Requirement already satisfied: typing-extensions~=3.7.4 in /usr/local/lib/python3.7/dist-packages (from tensorflow->beyondpapers) (3.7.4.3)\n",
            "Requirement already satisfied: protobuf>=3.9.2 in /usr/local/lib/python3.7/dist-packages (from tensorflow->beyondpapers) (3.17.3)\n",
            "Requirement already satisfied: cached-property in /usr/local/lib/python3.7/dist-packages (from h5py~=3.1.0->tensorflow->beyondpapers) (1.5.2)\n",
            "Requirement already satisfied: google-auth<2,>=1.6.3 in /usr/local/lib/python3.7/dist-packages (from tensorboard~=2.5->tensorflow->beyondpapers) (1.32.1)\n",
            "Requirement already satisfied: markdown>=2.6.8 in /usr/local/lib/python3.7/dist-packages (from tensorboard~=2.5->tensorflow->beyondpapers) (3.3.4)\n",
            "Requirement already satisfied: google-auth-oauthlib<0.5,>=0.4.1 in /usr/local/lib/python3.7/dist-packages (from tensorboard~=2.5->tensorflow->beyondpapers) (0.4.4)\n",
            "Requirement already satisfied: tensorboard-data-server<0.7.0,>=0.6.0 in /usr/local/lib/python3.7/dist-packages (from tensorboard~=2.5->tensorflow->beyondpapers) (0.6.1)\n",
            "Requirement already satisfied: setuptools>=41.0.0 in /usr/local/lib/python3.7/dist-packages (from tensorboard~=2.5->tensorflow->beyondpapers) (57.2.0)\n",
            "Requirement already satisfied: tensorboard-plugin-wit>=1.6.0 in /usr/local/lib/python3.7/dist-packages (from tensorboard~=2.5->tensorflow->beyondpapers) (1.8.0)\n",
            "Requirement already satisfied: requests<3,>=2.21.0 in /usr/local/lib/python3.7/dist-packages (from tensorboard~=2.5->tensorflow->beyondpapers) (2.23.0)\n",
            "Requirement already satisfied: werkzeug>=0.11.15 in /usr/local/lib/python3.7/dist-packages (from tensorboard~=2.5->tensorflow->beyondpapers) (1.0.1)\n",
            "Requirement already satisfied: rsa<5,>=3.1.4 in /usr/local/lib/python3.7/dist-packages (from google-auth<2,>=1.6.3->tensorboard~=2.5->tensorflow->beyondpapers) (4.7.2)\n",
            "Requirement already satisfied: pyasn1-modules>=0.2.1 in /usr/local/lib/python3.7/dist-packages (from google-auth<2,>=1.6.3->tensorboard~=2.5->tensorflow->beyondpapers) (0.2.8)\n",
            "Requirement already satisfied: cachetools<5.0,>=2.0.0 in /usr/local/lib/python3.7/dist-packages (from google-auth<2,>=1.6.3->tensorboard~=2.5->tensorflow->beyondpapers) (4.2.2)\n",
            "Requirement already satisfied: requests-oauthlib>=0.7.0 in /usr/local/lib/python3.7/dist-packages (from google-auth-oauthlib<0.5,>=0.4.1->tensorboard~=2.5->tensorflow->beyondpapers) (1.3.0)\n",
            "Requirement already satisfied: importlib-metadata in /usr/local/lib/python3.7/dist-packages (from markdown>=2.6.8->tensorboard~=2.5->tensorflow->beyondpapers) (4.6.1)\n",
            "Requirement already satisfied: pyasn1<0.5.0,>=0.4.6 in /usr/local/lib/python3.7/dist-packages (from pyasn1-modules>=0.2.1->google-auth<2,>=1.6.3->tensorboard~=2.5->tensorflow->beyondpapers) (0.4.8)\n",
            "Requirement already satisfied: idna<3,>=2.5 in /usr/local/lib/python3.7/dist-packages (from requests<3,>=2.21.0->tensorboard~=2.5->tensorflow->beyondpapers) (2.10)\n",
            "Requirement already satisfied: chardet<4,>=3.0.2 in /usr/local/lib/python3.7/dist-packages (from requests<3,>=2.21.0->tensorboard~=2.5->tensorflow->beyondpapers) (3.0.4)\n",
            "Requirement already satisfied: urllib3!=1.25.0,!=1.25.1,<1.26,>=1.21.1 in /usr/local/lib/python3.7/dist-packages (from requests<3,>=2.21.0->tensorboard~=2.5->tensorflow->beyondpapers) (1.24.3)\n",
            "Requirement already satisfied: certifi>=2017.4.17 in /usr/local/lib/python3.7/dist-packages (from requests<3,>=2.21.0->tensorboard~=2.5->tensorflow->beyondpapers) (2021.5.30)\n",
            "Requirement already satisfied: oauthlib>=3.0.0 in /usr/local/lib/python3.7/dist-packages (from requests-oauthlib>=0.7.0->google-auth-oauthlib<0.5,>=0.4.1->tensorboard~=2.5->tensorflow->beyondpapers) (3.1.1)\n",
            "Requirement already satisfied: zipp>=0.5 in /usr/local/lib/python3.7/dist-packages (from importlib-metadata->markdown>=2.6.8->tensorboard~=2.5->tensorflow->beyondpapers) (3.5.0)\n",
            "Installing collected packages: beyondpapers\n",
            "Successfully installed beyondpapers-0.1.0\n"
          ],
          "name": "stdout"
        }
      ]
    },
    {
      "cell_type": "markdown",
      "metadata": {
        "id": "j5rXaNkIEVLK"
      },
      "source": [
        "## Importing required packages"
      ]
    },
    {
      "cell_type": "code",
      "metadata": {
        "id": "NgZTqLAnCYMc"
      },
      "source": [
        "from beyondpapers.switcher import Switcher   #in local this might some time to load first time as in backend tesorflow is loaded as well\n",
        "\n",
        "from sklearn.datasets import load_boston\n",
        "from sklearn.model_selection import train_test_split\n",
        "from sklearn.metrics import mean_absolute_error,mean_squared_error\n",
        "import seaborn as sns\n",
        "import matplotlib.pyplot as plt\n",
        "import pandas as pd\n",
        "import numpy as np"
      ],
      "execution_count": null,
      "outputs": []
    },
    {
      "cell_type": "markdown",
      "metadata": {
        "id": "aaUEH26wE9MZ"
      },
      "source": [
        "###  Regression Dataset for training and test\n",
        "Swicher was primarily created for Regression problems. More algorithms will be added to beyondpapers in future which might be relevant for classification case \n"
      ]
    },
    {
      "cell_type": "code",
      "metadata": {
        "id": "NxMSJpq4CepY"
      },
      "source": [
        "raw_data = load_boston()\n",
        "X=raw_data['data']\n",
        "y=raw_data['target']\n",
        "\n",
        "np.random.seed(100)"
      ],
      "execution_count": null,
      "outputs": []
    },
    {
      "cell_type": "code",
      "metadata": {
        "id": "FeAGiTtvCxpZ"
      },
      "source": [
        "X_train,X_test,y_train,y_test = train_test_split(X,y,test_size=0.3,random_state=200)"
      ],
      "execution_count": null,
      "outputs": []
    },
    {
      "cell_type": "markdown",
      "metadata": {
        "id": "RTYqQkjLGqqZ"
      },
      "source": [
        "### Modelling with Switcher"
      ]
    },
    {
      "cell_type": "code",
      "metadata": {
        "id": "2sqWTdP0GQA5"
      },
      "source": [
        "learner = Switcher() #load the model\n",
        "\n",
        "learner.fit(X_train,y_train)   #fit the model"
      ],
      "execution_count": null,
      "outputs": []
    },
    {
      "cell_type": "markdown",
      "metadata": {
        "id": "9MZT3-bPH0CP"
      },
      "source": [
        "Switchers will be training multiple deepANN hence might take somtime. Progress bars will be added in future"
      ]
    },
    {
      "cell_type": "code",
      "metadata": {
        "id": "WlU0rUzEG95a"
      },
      "source": [
        "ytrain_pred=learner.predict(X_train)\n",
        "ytest_pred=learner.predict(X_test)\n"
      ],
      "execution_count": null,
      "outputs": []
    },
    {
      "cell_type": "code",
      "metadata": {
        "colab": {
          "base_uri": "https://localhost:8080/"
        },
        "id": "3PY0cpqyIgTI",
        "outputId": "660d9cbc-49d6-4169-a555-1f01b5d65417"
      },
      "source": [
        "train_error=mean_squared_error(y_train,ytrain_pred,squared=False)\n",
        "\n",
        "print(f\"Train Error: {train_error}\")"
      ],
      "execution_count": null,
      "outputs": [
        {
          "output_type": "stream",
          "text": [
            "Train Error: 2.3723221673425123\n"
          ],
          "name": "stdout"
        }
      ]
    },
    {
      "cell_type": "code",
      "metadata": {
        "colab": {
          "base_uri": "https://localhost:8080/"
        },
        "id": "8KVzHbfhJxNi",
        "outputId": "763eae1f-30da-4813-fb4a-18f8221b7607"
      },
      "source": [
        "test_error=mean_squared_error(y_test,ytest_pred,squared=False)\n",
        "\n",
        "print(f\"Test Error: {test_error}\") "
      ],
      "execution_count": null,
      "outputs": [
        {
          "output_type": "stream",
          "text": [
            "Test Error: 4.973980666086838\n"
          ],
          "name": "stdout"
        }
      ]
    },
    {
      "cell_type": "code",
      "metadata": {
        "colab": {
          "base_uri": "https://localhost:8080/",
          "height": 297
        },
        "id": "v7OPzkIRJ2lH",
        "outputId": "d46a9ca9-34c7-4ed0-c1c4-a30f979910a8"
      },
      "source": [
        "plt.subplot(1,2,1)\n",
        "\n",
        "sns.scatterplot(x=y_train,y=ytrain_pred).set_title('train')\n",
        "\n",
        "\n",
        "plt.subplot(1,2,2)\n",
        "sns.scatterplot(x=y_test,y=ytest_pred).set_title('test')\n"
      ],
      "execution_count": null,
      "outputs": [
        {
          "output_type": "execute_result",
          "data": {
            "text/plain": [
              "Text(0.5, 1.0, 'test')"
            ]
          },
          "metadata": {
            "tags": []
          },
          "execution_count": 165
        },
        {
          "output_type": "display_data",
          "data": {
            "image/png": "[encoded data removed]",
            "text/plain": [
              "<Figure size 432x288 with 2 Axes>"
            ]
          },
          "metadata": {
            "tags": [],
            "needs_background": "light"
          }
        }
      ]
    },
    {
      "cell_type": "markdown",
      "metadata": {
        "id": "dT5xbKiuMJX3"
      },
      "source": [
        "### But what did switcher do?\n",
        "\n",
        "**Fit/Train Cylce**:\n",
        "1.Switcher splits data into 4 random splits \n",
        "\n",
        "2.Classifier tries make it less random by attempting to predict random split.  \n",
        "\n",
        "3.Seperate deep neural network learners are trained each split over specified number of epochs or iterations. Total 4 neural networks in this case\n",
        "\n",
        "4.Observations switches to different split if different learner predicted it best. \n",
        "\n",
        "5. 3 & 4 are repeated based switch specified. By default 4 switches.\n",
        "\n",
        "6. Finally Classifier learners the best split for a obs.\n",
        "\n",
        "**Predict/Test Cycle**:\n",
        "1. Classifier splits data in groups equalt to number of splits\n",
        "\n",
        "2. DeenANN of that split predict the value\n"
      ]
    },
    {
      "cell_type": "code",
      "metadata": {
        "colab": {
          "base_uri": "https://localhost:8080/"
        },
        "id": "Lq3d2ePhNY-m",
        "outputId": "61953649-1e16-4b92-c3df-9dd510229827"
      },
      "source": [
        "#### Below is switchers default specifications\n",
        "from beyondpapers.regressors import tensorflow_AnnRegressor\n",
        "from sklearn.ensemble import RandomForestClassifier\n",
        "\n",
        "Switcher(base_model=tensorflow_AnnRegressor(), #Base Regressor Tensorflow based\n",
        "             meta_learner=RandomForestClassifier(), #Classifier which learns the best split\n",
        "             split=4, #number of groups data should be split into\n",
        "             switch=20, #After every switch learners switch data between them based on error perf\n",
        "                        #best learner for a obs gets the data \n",
        "             base_learner_initialize=False,\n",
        "             split_group=None, \n",
        "             split_learn_mode='pre-post',#Classifier is fit twice post random split before Regressors\n",
        "                                         #After regression ans switching process completes.\n",
        "                                         #other configration are under test will be released and\n",
        "                                         #and documented soon\n",
        "             split_weights=np.nan,\n",
        "             split_learners=np.nan, \n",
        "             random_state=100)"
      ],
      "execution_count": null,
      "outputs": [
        {
          "output_type": "execute_result",
          "data": {
            "text/plain": [
              "<beyondpapers.switcher.__switcher.Switcher at 0x7f1e18ffd5d0>"
            ]
          },
          "metadata": {
            "tags": []
          },
          "execution_count": 57
        }
      ]
    },
    {
      "cell_type": "markdown",
      "metadata": {
        "id": "-DDOFHVnQq5R"
      },
      "source": [
        "## So Does switcher do better job than just running just Deepneural Network?"
      ]
    },
    {
      "cell_type": "code",
      "metadata": {
        "id": "-Q4VPrAnRS4g"
      },
      "source": [
        "tf_ann = tensorflow_AnnRegressor(epochs=200)   #default is 10 epochs"
      ],
      "execution_count": null,
      "outputs": []
    },
    {
      "cell_type": "code",
      "metadata": {
        "id": "ZSYiA9a-RZGv"
      },
      "source": [
        "tf_ann.fit(X_train,y_train)"
      ],
      "execution_count": null,
      "outputs": []
    },
    {
      "cell_type": "code",
      "metadata": {
        "id": "bW7xv6juWoUm"
      },
      "source": [
        "ytrain_tfpred=tf_ann.predict(X_train)\n",
        "ytest_tfpred=tf_ann.predict(X_test)"
      ],
      "execution_count": null,
      "outputs": []
    },
    {
      "cell_type": "code",
      "metadata": {
        "colab": {
          "base_uri": "https://localhost:8080/"
        },
        "id": "KoEyRJhtRdV-",
        "outputId": "36174fbb-0255-4e53-e61f-7abeb6ab2224"
      },
      "source": [
        "train_tferror=mean_squared_error(y_train,ytrain_tfpred,squared=False)\n",
        "\n",
        "print(f\"Train Error: {train_tferror}\")"
      ],
      "execution_count": null,
      "outputs": [
        {
          "output_type": "stream",
          "text": [
            "Train Error: 3.88783968045196\n"
          ],
          "name": "stdout"
        }
      ]
    },
    {
      "cell_type": "code",
      "metadata": {
        "colab": {
          "base_uri": "https://localhost:8080/"
        },
        "id": "QWj73C5MXiFQ",
        "outputId": "52225241-d275-47a5-fc72-438f0f8981bb"
      },
      "source": [
        "test_tferror=mean_squared_error(y_test,ytest_tfpred,squared=False)\n",
        "\n",
        "print(f\"Train Error: {test_tferror}\")"
      ],
      "execution_count": null,
      "outputs": [
        {
          "output_type": "stream",
          "text": [
            "Train Error: 5.781735246191603\n"
          ],
          "name": "stdout"
        }
      ]
    },
    {
      "cell_type": "code",
      "metadata": {
        "colab": {
          "base_uri": "https://localhost:8080/"
        },
        "id": "MdjfHZc3Xbd9",
        "outputId": "4aed6910-2fad-4f0a-ab7e-6e083462dc47"
      },
      "source": [
        "tf_ann.model.summary() #Two hidden layer with 120 units each adn 1 output layer."
      ],
      "execution_count": null,
      "outputs": [
        {
          "output_type": "stream",
          "text": [
            "Model: \"sequential_168\"\n",
            "_________________________________________________________________\n",
            "Layer (type)                 Output Shape              Param #   \n",
            "=================================================================\n",
            "dense_504 (Dense)            (None, 120)               1680      \n",
            "_________________________________________________________________\n",
            "dense_505 (Dense)            (None, 120)               14520     \n",
            "_________________________________________________________________\n",
            "dense_506 (Dense)            (None, 1)                 121       \n",
            "=================================================================\n",
            "Total params: 16,321\n",
            "Trainable params: 16,321\n",
            "Non-trainable params: 0\n",
            "_________________________________________________________________\n"
          ],
          "name": "stdout"
        }
      ]
    },
    {
      "cell_type": "code",
      "metadata": {
        "colab": {
          "base_uri": "https://localhost:8080/",
          "height": 297
        },
        "id": "aXP7M_nFYJ1v",
        "outputId": "b66fcf32-8a3b-4572-cf6a-fbaf71f9e665"
      },
      "source": [
        "plt.subplot(1,2,1)\n",
        "\n",
        "sns.scatterplot(x=y_train,y=ytrain_tfpred).set_title('tf train')\n",
        "\n",
        "\n",
        "plt.subplot(1,2,2)\n",
        "sns.scatterplot(x=y_test,y=ytest_tfpred).set_title('tf test')"
      ],
      "execution_count": null,
      "outputs": [
        {
          "output_type": "execute_result",
          "data": {
            "text/plain": [
              "Text(0.5, 1.0, 'tf test')"
            ]
          },
          "metadata": {
            "tags": []
          },
          "execution_count": 140
        },
        {
          "output_type": "display_data",
          "data": {
            "image/png": "[encoded data removed]",
            "text/plain": [
              "<Figure size 432x288 with 2 Axes>"
            ]
          },
          "metadata": {
            "tags": [],
            "needs_background": "light"
          }
        }
      ]
    },
    {
      "cell_type": "code",
      "metadata": {
        "colab": {
          "base_uri": "https://localhost:8080/",
          "height": 297
        },
        "id": "Mb05ATbdZZJ9",
        "outputId": "14f228e3-cbf3-49cd-8b37-cb96ef18a123"
      },
      "source": [
        "#Compare again\n",
        "\n",
        "plt.subplot(1,2,1)\n",
        "sns.scatterplot(x=y_train,y=ytrain_pred).set_title('Switcher train')\n",
        "plt.subplot(1,2,2)\n",
        "sns.scatterplot(x=y_test,y=ytest_pred).set_title('Swicher test')"
      ],
      "execution_count": null,
      "outputs": [
        {
          "output_type": "execute_result",
          "data": {
            "text/plain": [
              "Text(0.5, 1.0, 'Swicher test')"
            ]
          },
          "metadata": {
            "tags": []
          },
          "execution_count": 170
        },
        {
          "output_type": "display_data",
          "data": {
            "image/png": "[encoded data removed]",
            "text/plain": [
              "<Figure size 432x288 with 2 Axes>"
            ]
          },
          "metadata": {
            "tags": [],
            "needs_background": "light"
          }
        }
      ]
    },
    {
      "cell_type": "markdown",
      "metadata": {
        "id": "S344q18WaNSy"
      },
      "source": [
        "#### Switchers seems to have made sLigHt better predictions. Anyhow its not significantly better. \n",
        "\n",
        "#### Switcher is extermely versatile based on architecture choices \n",
        "\n",
        "#### After Further experiments is being carried out on with artificial and real life datatsets.\n",
        "\n",
        "#### Switchers assumption is if data has hidden groups that behave siginificantly different from other groups then switchers could divide and create curated learners\n",
        "\n",
        "\n",
        "\n"
      ]
    },
    {
      "cell_type": "code",
      "metadata": {
        "id": "sgvTg7HCbsBd"
      },
      "source": [
        ""
      ],
      "execution_count": null,
      "outputs": []
    }
  ]
}